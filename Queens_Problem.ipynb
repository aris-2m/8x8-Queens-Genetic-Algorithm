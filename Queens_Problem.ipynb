{
 "cells": [
  {
   "cell_type": "markdown",
   "id": "31b1b2cf",
   "metadata": {},
   "source": [
    "<center><h1>The 8-QueenProblem</h1></center>"
   ]
  },
  {
   "cell_type": "markdown",
   "id": "21fba7f9",
   "metadata": {},
   "source": [
    "Pour effectuer ce travail, le code créé précédemment a été readapté pour les problèmes quelconques où les X se sont pas forcement binaires dans <b>GeneticAlgoGeneral_.py</b>"
   ]
  },
  {
   "cell_type": "code",
   "execution_count": 1,
   "id": "732f9294",
   "metadata": {},
   "outputs": [],
   "source": [
    "#import GeneticAlgo.py as Genetic\n",
    "\n",
    "import sys\n",
    "sys.path.append(\"/GeneticAlgoGeneral_\")\n",
    "import GeneticAlgoGeneral_ as Genetic"
   ]
  },
  {
   "cell_type": "markdown",
   "id": "6658d2a2",
   "metadata": {},
   "source": [
    "<h3>Représentation du X</h3>"
   ]
  },
  {
   "cell_type": "markdown",
   "id": "5a37b8eb",
   "metadata": {},
   "source": [
    "X sera une liste comme X=[1,3,4,2,6,7,4,0]\n",
    "<br>\n",
    "Pour chaque élement de la liste, l'index est la position sur la première dimension et la valeur la position sur la deuxième dimension"
   ]
  },
  {
   "cell_type": "markdown",
   "id": "6fd3d846",
   "metadata": {},
   "source": [
    "<h3>La fonction objectif</h3>"
   ]
  },
  {
   "cell_type": "code",
   "execution_count": 2,
   "id": "4b46e028",
   "metadata": {},
   "outputs": [],
   "source": [
    "def fitness_score(X):\n",
    "    score = 0\n",
    "    #La fonction objetif est positif, donc au fur et à mesure qu'on évolue dans les boucles, elles augmentent\n",
    "    #contiinue arrete la boucle et pénalise ainsi le score, en l'empechant d'augmenter\n",
    "    \n",
    "    for ligne in range(len(X)):\n",
    "        colonne = X[ligne]\n",
    "        \n",
    "        for autre_ligne in range(len(X)):\n",
    "            #autre=colonne = X[autre_ligne]\n",
    "            \n",
    "            #On va prénaliser le fait qu'il y ait une autre reine sur la mm ligne en quittant la boucle\n",
    "            #Elle gardera alors un score très faible\n",
    "            if autre_ligne == ligne:\n",
    "                print(\"Non respecté ici\")\n",
    "                continue\n",
    "            #On va prénaliser le fait qu'il y ait une autre reine sur la mm colonne en quittant la boucle\n",
    "            #Elle gardera alors un score très faible\n",
    "            if X[autre_ligne] == colonne:\n",
    "                print(\"Non respecté ici\")\n",
    "                continue\n",
    "                \n",
    "            #On va prénaliser le fait qu'il y ait une autre reine sur la mm diagonale en quittant la boucle\n",
    "            #Elle gardera alors un score très faible\n",
    "            if autre_ligne + X[autre_ligne] == ligne + colonne:\n",
    "                print(\"Non respecté ici\")\n",
    "                continue\n",
    "            #On va prénaliser le fait qu'il y ait une autre reine sur la mm diagonale inverse en quittant la boucle\n",
    "            #Elle gardera alors un score très faible\n",
    "            if autre_ligne - X[autre_ligne] == ligne - colonne:\n",
    "                print(\"Non respecté ici\")\n",
    "                continue\n",
    "                \n",
    "                \n",
    "            #On incrémente le score de 1 dans la boucle quand la reine n'attache aucune autre jusque là\n",
    "            score += 1\n",
    "    \n",
    "    #Diviser le score par 2 à cause la comutativité\n",
    "    return score/2"
   ]
  },
  {
   "cell_type": "markdown",
   "id": "9d698695",
   "metadata": {},
   "source": [
    "<h4>Test de la fonction objectif</h4>"
   ]
  },
  {
   "cell_type": "code",
   "execution_count": 3,
   "id": "b3ba7e1f",
   "metadata": {},
   "outputs": [
    {
     "name": "stdout",
     "output_type": "stream",
     "text": [
      "Non respecté ici\n",
      "Non respecté ici\n",
      "Non respecté ici\n",
      "Non respecté ici\n",
      "Non respecté ici\n",
      "Non respecté ici\n",
      "Non respecté ici\n",
      "Non respecté ici\n",
      "Non respecté ici\n",
      "Non respecté ici\n",
      "Non respecté ici\n",
      "Non respecté ici\n",
      "Non respecté ici\n",
      "Non respecté ici\n",
      "Non respecté ici\n",
      "Non respecté ici\n",
      "Non respecté ici\n",
      "Non respecté ici\n",
      "Non respecté ici\n",
      "Non respecté ici\n",
      "Non respecté ici\n",
      "Non respecté ici\n",
      "Non respecté ici\n",
      "Non respecté ici\n",
      "Non respecté ici\n",
      "Non respecté ici\n",
      "Non respecté ici\n",
      "Non respecté ici\n",
      "Non respecté ici\n",
      "Non respecté ici\n",
      "Non respecté ici\n",
      "Non respecté ici\n",
      "Non respecté ici\n",
      "Non respecté ici\n",
      "Non respecté ici\n",
      "Non respecté ici\n",
      "Non respecté ici\n",
      "Non respecté ici\n",
      "Non respecté ici\n",
      "Non respecté ici\n",
      "Non respecté ici\n",
      "Non respecté ici\n",
      "Non respecté ici\n",
      "Non respecté ici\n",
      "Non respecté ici\n",
      "Non respecté ici\n",
      "Non respecté ici\n",
      "Non respecté ici\n",
      "Non respecté ici\n",
      "Non respecté ici\n",
      "Non respecté ici\n",
      "Non respecté ici\n",
      "Non respecté ici\n",
      "Non respecté ici\n",
      "Non respecté ici\n",
      "Non respecté ici\n",
      "Non respecté ici\n",
      "Non respecté ici\n",
      "Non respecté ici\n",
      "Non respecté ici\n",
      "Non respecté ici\n",
      "Non respecté ici\n",
      "Non respecté ici\n",
      "Non respecté ici\n"
     ]
    },
    {
     "data": {
      "text/plain": [
       "0.0"
      ]
     },
     "execution_count": 3,
     "metadata": {},
     "output_type": "execute_result"
    }
   ],
   "source": [
    "X=[1,2,3,4,5,6,7,8]\n",
    "fitness_score(X)"
   ]
  },
  {
   "cell_type": "code",
   "execution_count": 4,
   "id": "5218d7fe",
   "metadata": {},
   "outputs": [
    {
     "name": "stdout",
     "output_type": "stream",
     "text": [
      "Non respecté ici\n",
      "Non respecté ici\n",
      "Non respecté ici\n",
      "Non respecté ici\n",
      "Non respecté ici\n",
      "Non respecté ici\n",
      "Non respecté ici\n",
      "Non respecté ici\n",
      "Non respecté ici\n",
      "No\n",
      " respecté ici\n",
      "No\n",
      " respecté ici\n",
      "Non respecté ici\n"
     ]
    },
    {
     "data": {
      "text/plain": [
       "26.0"
      ]
     },
     "execution_count": 4,
     "metadata": {},
     "output_type": "execute_result"
    }
   ],
   "source": [
    "X=[0,5,1,4,6,3,2,2]\n",
    "fitness_score(X)"
   ]
  },
  {
   "cell_type": "code",
   "execution_count": 5,
   "id": "d9017887",
   "metadata": {},
   "outputs": [
    {
     "name": "stdout",
     "output_type": "stream",
     "text": [
      "Non respecté ici\n",
      "Non respecté ici\n",
      "Non respecté ici\n",
      "Non respecté ici\n",
      "Non respecté ici\n",
      "Non respecté ici\n",
      "Non respecté ici\n",
      "Non respecté ici\n",
      "Non respecté ici\n",
      "Non respecté ici\n"
     ]
    },
    {
     "data": {
      "text/plain": [
       "27.0"
      ]
     },
     "execution_count": 5,
     "metadata": {},
     "output_type": "execute_result"
    }
   ],
   "source": [
    "X=[0,5,1,4,6,3,7,2]\n",
    "fitness_score(X)"
   ]
  },
  {
   "cell_type": "code",
   "execution_count": 6,
   "id": "eb808ad7",
   "metadata": {},
   "outputs": [
    {
     "name": "stdout",
     "output_type": "stream",
     "text": [
      "Non respecté ici\n",
      "No\n",
      " respecté ici\n",
      "Non respecté ici\n",
      "Non respecté ici\n",
      "Non respecté ici\n",
      "Non respecté ici\n",
      "Non respecté ici\n",
      "Non respecté ici\n",
      "No\n",
      " respecté ici\n",
      "Non respecté ici\n"
     ]
    },
    {
     "data": {
      "text/plain": [
       "27.0"
      ]
     },
     "execution_count": 6,
     "metadata": {},
     "output_type": "execute_result"
    }
   ],
   "source": [
    "X=[6,1,3,5,7,2,4,6]\n",
    "fitness_score(X)"
   ]
  },
  {
   "cell_type": "code",
   "execution_count": 7,
   "id": "8fbe5bed",
   "metadata": {},
   "outputs": [
    {
     "name": "stdout",
     "output_type": "stream",
     "text": [
      "Non respecté ici\n",
      "Non respecté ici\n",
      "Non respecté ici\n",
      "Non respecté ici\n",
      "Non respecté ici\n",
      "Non respecté ici\n",
      "Non respecté ici\n",
      "Non respecté ici\n",
      "Non respecté ici\n",
      "Non respecté ici\n"
     ]
    },
    {
     "data": {
      "text/plain": [
       "27.0"
      ]
     },
     "execution_count": 7,
     "metadata": {},
     "output_type": "execute_result"
    }
   ],
   "source": [
    "X=[0,1,3,5,7,2,4,6]\n",
    "fitness_score(X)"
   ]
  },
  {
   "cell_type": "markdown",
   "id": "e8b6c5ab",
   "metadata": {},
   "source": [
    "<b><u>Interprétation:</u> En vrai, on doute qu'une solution puisse respecter toutes les conditions mais, on aimerait trouver celle qui offre le meilleur compromis. Et le meilleur score a l'air d'etre 27</b>"
   ]
  },
  {
   "cell_type": "markdown",
   "id": "6bb7e2f3",
   "metadata": {},
   "source": [
    "<h3>La fonction objectif sans les affichages internes</h3>"
   ]
  },
  {
   "cell_type": "code",
   "execution_count": 8,
   "id": "70dfa9af",
   "metadata": {},
   "outputs": [],
   "source": [
    "def fitness_score2(X):\n",
    "    score = 0\n",
    "    #La fonction objetif est positif, donc au fur et à mesure qu'on évolue dans les boucles, elles augmentent\n",
    "    #contiinue arrete la boucle et pénalise ainsi le score, en l'empechant d'augmenter\n",
    "    \n",
    "    for ligne in range(len(X)):\n",
    "        colonne = X[ligne]\n",
    "        \n",
    "        for autre_ligne in range(len(X)):\n",
    "            #autre=colonne = X[autre_ligne]\n",
    "            \n",
    "            #On va prénaliser le fait qu'il y ait une autre reine sur la mm ligne en quittant la boucle\n",
    "            #Elle gardera alors un score très faible\n",
    "            if autre_ligne == ligne:\n",
    "                continue\n",
    "            #On va prénaliser le fait qu'il y ait une autre reine sur la mm colonne en quittant la boucle\n",
    "            #Elle gardera alors un score très faible\n",
    "            if X[autre_ligne] == colonne:\n",
    "                continue\n",
    "                \n",
    "            #On va prénaliser le fait qu'il y ait une autre reine sur la mm diagonale en quittant la boucle\n",
    "            #Elle gardera alors un score très faible\n",
    "            if autre_ligne + X[autre_ligne] == ligne + colonne:\n",
    "                continue\n",
    "            #On va prénaliser le fait qu'il y ait une autre reine sur la mm diagonale inverse en quittant la boucle\n",
    "            #Elle gardera alors un score très faible\n",
    "            if autre_ligne - X[autre_ligne] == ligne - colonne:\n",
    "                continue           \n",
    "                \n",
    "            #On incrémente le score de 1 dans la boucle quand la reine n'attache aucune autre jusque là\n",
    "            score += 1\n",
    "    \n",
    "    #Diviser le score par 2 à cause la comutativité\n",
    "    return score/2"
   ]
  },
  {
   "cell_type": "code",
   "execution_count": 9,
   "id": "950f466f",
   "metadata": {},
   "outputs": [],
   "source": [
    "(a,b,c,d,e)=Genetic.main(pop_size=20, nb_parents=2,nb_generations=10, \n",
    "                         nb_survivants=20, fonction_=fitness_score2,plage_valeurs=7,binaire=False) "
   ]
  },
  {
   "cell_type": "code",
   "execution_count": 10,
   "id": "19493821",
   "metadata": {},
   "outputs": [
    {
     "data": {
      "text/plain": [
       "array([[1, 6, 4, 7, 1, 3, 5, 2],\n",
       "       [1, 4, 6, 0, 3, 5, 0, 2],\n",
       "       [5, 5, 2, 0, 3, 7, 4, 1],\n",
       "       [5, 3, 0, 7, 3, 1, 6, 4],\n",
       "       [1, 6, 4, 2, 7, 5, 3, 5],\n",
       "       [0, 3, 1, 7, 5, 3, 1, 4],\n",
       "       [6, 4, 2, 7, 3, 1, 3, 5],\n",
       "       [1, 3, 5, 7, 2, 0, 5, 4],\n",
       "       [1, 6, 4, 0, 7, 5, 0, 2],\n",
       "       [1, 5, 4, 2, 7, 5, 3, 0],\n",
       "       [0, 6, 5, 2, 6, 1, 7, 4],\n",
       "       [1, 4, 2, 0, 6, 7, 5, 2],\n",
       "       [1, 6, 2, 7, 3, 7, 0, 4],\n",
       "       [1, 5, 1, 6, 3, 7, 2, 4],\n",
       "       [2, 3, 7, 0, 5, 1, 4, 6],\n",
       "       [4, 3, 1, 6, 2, 5, 7, 1],\n",
       "       [1, 6, 3, 0, 7, 5, 2, 2],\n",
       "       [5, 3, 1, 6, 2, 4, 7, 0],\n",
       "       [1, 6, 2, 0, 7, 3, 4, 2],\n",
       "       [0, 6, 3, 6, 2, 7, 5, 4]])"
      ]
     },
     "execution_count": 10,
     "metadata": {},
     "output_type": "execute_result"
    }
   ],
   "source": [
    "a"
   ]
  },
  {
   "cell_type": "code",
   "execution_count": 11,
   "id": "8170f0e7",
   "metadata": {},
   "outputs": [
    {
     "data": {
      "text/plain": [
       "array([27., 27., 27., 27., 27., 26., 26., 26., 26., 26., 26., 26., 26.,\n",
       "       26., 26., 26., 26., 26., 26., 26.])"
      ]
     },
     "execution_count": 11,
     "metadata": {},
     "output_type": "execute_result"
    }
   ],
   "source": [
    "b"
   ]
  },
  {
   "cell_type": "markdown",
   "id": "0df5a40a",
   "metadata": {},
   "source": [
    "Ici les quatre meilleurs ont une fitness de 27"
   ]
  }
 ],
 "metadata": {
  "kernelspec": {
   "display_name": "mainconda",
   "language": "python",
   "name": "mainconda"
  },
  "language_info": {
   "codemirror_mode": {
    "name": "ipython",
    "version": 3
   },
   "file_extension": ".py",
   "mimetype": "text/x-python",
   "name": "python",
   "nbconvert_exporter": "python",
   "pygments_lexer": "ipython3",
   "version": "3.9.7"
  },
  "varInspector": {
   "cols": {
    "lenName": 16,
    "lenType": 16,
    "lenVar": 40
   },
   "kernels_config": {
    "python": {
     "delete_cmd_postfix": "",
     "delete_cmd_prefix": "del ",
     "library": "var_list.py",
     "varRefreshCmd": "print(var_dic_list())"
    },
    "r": {
     "delete_cmd_postfix": ") ",
     "delete_cmd_prefix": "rm(",
     "library": "var_list.r",
     "varRefreshCmd": "cat(var_dic_list()) "
    }
   },
   "types_to_exclude": [
    "module",
    "function",
    "builtin_function_or_method",
    "instance",
    "_Feature"
   ],
   "window_display": false
  }
 },
 "nbformat": 4,
 "nbformat_minor": 5
}
