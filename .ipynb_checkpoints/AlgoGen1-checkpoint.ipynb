{
 "cells": [
  {
   "cell_type": "markdown",
   "id": "17f6e592",
   "metadata": {},
   "source": [
    "<h1><center>ALGORITHMES GENETIQUES</center></h1>"
   ]
  },
  {
   "cell_type": "code",
   "execution_count": 12,
   "id": "a01fb9cd",
   "metadata": {},
   "outputs": [],
   "source": [
    "import sympy\n",
    "import math\n",
    "import numpy\n",
    "from copy import copy"
   ]
  },
  {
   "cell_type": "code",
   "execution_count": 13,
   "id": "67a9c03a",
   "metadata": {},
   "outputs": [],
   "source": [
    "# Configurer une imprimante\n",
    "#sympy.init_printing()"
   ]
  },
  {
   "cell_type": "markdown",
   "id": "e5a00e64",
   "metadata": {},
   "source": [
    "<h3>Création de la fonction</h3>"
   ]
  },
  {
   "cell_type": "code",
   "execution_count": 14,
   "id": "9624aec1",
   "metadata": {},
   "outputs": [
    {
     "data": {
      "image/png": "[encoded data removed]",
      "text/latex": [
       "$\\displaystyle \\sin{\\left(\\frac{\\pi x}{255} \\right)}$"
      ],
      "text/plain": [
       "   ⎛π⋅x⎞\n",
       "sin⎜───⎟\n",
       "   ⎝255⎠"
      ]
     },
     "execution_count": 14,
     "metadata": {},
     "output_type": "execute_result"
    }
   ],
   "source": [
    "#x=sympy.symbols('x')\n",
    "#fonction=sympy.sin((x*sympy.pi)/(255))\n",
    "#fonction"
   ]
  },
  {
   "cell_type": "code",
   "execution_count": 15,
   "id": "29acf6d3",
   "metadata": {},
   "outputs": [],
   "source": [
    "fonction=lambda x: sin((x*sympy.pi)/(255))"
   ]
  },
  {
   "cell_type": "code",
   "execution_count": 16,
   "id": "2fbb23c9",
   "metadata": {},
   "outputs": [
    {
     "ename": "AttributeError",
     "evalue": "'function' object has no attribute 'subs'",
     "output_type": "error",
     "traceback": [
      "\u001b[1;31m---------------------------------------------------------------------------\u001b[0m",
      "\u001b[1;31mAttributeError\u001b[0m                            Traceback (most recent call last)",
      "\u001b[1;32m~\\AppData\\Local\\Temp/ipykernel_14156/1704592393.py\u001b[0m in \u001b[0;36m<module>\u001b[1;34m\u001b[0m\n\u001b[0;32m      1\u001b[0m \u001b[1;31m#Test x=1:\u001b[0m\u001b[1;33m\u001b[0m\u001b[1;33m\u001b[0m\u001b[0m\n\u001b[1;32m----> 2\u001b[1;33m \u001b[0mfonction\u001b[0m\u001b[1;33m.\u001b[0m\u001b[0msubs\u001b[0m\u001b[1;33m(\u001b[0m\u001b[1;33m{\u001b[0m\u001b[0mx\u001b[0m\u001b[1;33m:\u001b[0m\u001b[1;36m1\u001b[0m\u001b[1;33m}\u001b[0m\u001b[1;33m)\u001b[0m\u001b[1;33m\u001b[0m\u001b[1;33m\u001b[0m\u001b[0m\n\u001b[0m",
      "\u001b[1;31mAttributeError\u001b[0m: 'function' object has no attribute 'subs'"
     ]
    }
   ],
   "source": [
    "#Test x=1:\n",
    "fonction.subs({x:1})"
   ]
  },
  {
   "cell_type": "code",
   "execution_count": null,
   "id": "17150c9c",
   "metadata": {},
   "outputs": [],
   "source": [
    "#binary = bin(16)\n",
    "#binary\n",
    "X=[1,1,1,1,1,1,1,1]\n",
    "Y=[1,0,0,0,1,0,0,0]"
   ]
  },
  {
   "cell_type": "code",
   "execution_count": null,
   "id": "17783fec",
   "metadata": {},
   "outputs": [],
   "source": [
    "def liste_en_decimale(X):\n",
    "    binaire=0\n",
    "    taille=len(X)-1\n",
    "    \n",
    "    for i in X:\n",
    "        binaire+=(2**taille)*i\n",
    "        taille=taille-1\n",
    "        \n",
    "    return binaire"
   ]
  },
  {
   "cell_type": "code",
   "execution_count": null,
   "id": "3933c1d6",
   "metadata": {},
   "outputs": [],
   "source": [
    "#Test:\n",
    "a=liste_en_decimale(X)\n",
    "a"
   ]
  },
  {
   "cell_type": "markdown",
   "id": "ffa7e6ea",
   "metadata": {},
   "source": [
    "<h3>Génération de la population</h3>"
   ]
  },
  {
   "cell_type": "code",
   "execution_count": null,
   "id": "b0107f57",
   "metadata": {},
   "outputs": [],
   "source": [
    "numpy.random.choice((0,1),8)"
   ]
  },
  {
   "cell_type": "code",
   "execution_count": null,
   "id": "13cd052d",
   "metadata": {},
   "outputs": [],
   "source": [
    "def randpop(pop_size=20):\n",
    "    population=[]\n",
    "    for i in range(pop_size):\n",
    "        nouveau=numpy.random.choice((0,1),8)\n",
    "        population.append(nouveau)\n",
    "    return population"
   ]
  },
  {
   "cell_type": "code",
   "execution_count": null,
   "id": "54edd7e2",
   "metadata": {},
   "outputs": [],
   "source": [
    "population=randpop(20)\n",
    "population"
   ]
  },
  {
   "cell_type": "markdown",
   "id": "49d4a3cc",
   "metadata": {},
   "source": [
    "<h3>Selection</h3>"
   ]
  },
  {
   "cell_type": "code",
   "execution_count": null,
   "id": "b0b1fca9",
   "metadata": {},
   "outputs": [],
   "source": [
    "a=numpy.random.randint(5) #Prend des chiffres entre 0 et 4\n",
    "a"
   ]
  },
  {
   "cell_type": "code",
   "execution_count": null,
   "id": "f69d1d4c",
   "metadata": {},
   "outputs": [],
   "source": [
    "for i in range(20):\n",
    "    a=numpy.random.randint(2)\n",
    "    print(a)"
   ]
  },
  {
   "cell_type": "code",
   "execution_count": null,
   "id": "4db9a1a4",
   "metadata": {},
   "outputs": [],
   "source": [
    "def select(pop_size=20,n_parents=2):\n",
    "    liste_selection=[]\n",
    "    for i in range(pop_size):\n",
    "        sous_liste=[]\n",
    "        for i in range(n_parents):\n",
    "            a=numpy.random.randint(pop_size)\n",
    "            sous_liste.append(a)\n",
    "        liste_selection.append(sous_liste)\n",
    "        \n",
    "    return liste_selection"
   ]
  },
  {
   "cell_type": "code",
   "execution_count": null,
   "id": "8d4ab899",
   "metadata": {},
   "outputs": [],
   "source": [
    "list_sel=select()\n",
    "list_sel"
   ]
  },
  {
   "cell_type": "markdown",
   "id": "166a9a04",
   "metadata": {},
   "source": [
    "<h3>Croisements Mi</h3>"
   ]
  },
  {
   "cell_type": "code",
   "execution_count": null,
   "id": "6c4f387e",
   "metadata": {},
   "outputs": [],
   "source": [
    "def elements_croisement_mi(n_parents):\n",
    "    \n",
    "    #n_parents doit etre une liste de parents\n",
    "    #Pour chaque parent on va créer deux sous chaines moitié moitié et insérer toutes ces moitiés dans une liste unique\n",
    "    \n",
    "    liste=[]\n",
    "    for parent_i in n_parents:\n",
    "        longueur=len(parent_i)\n",
    "        \n",
    "        mi=math.floor(longueur/2)\n",
    "        \n",
    "        parent_i1=parent_i[0:mi]\n",
    "        liste.append(parent_i1)\n",
    "        parent_i2=parent_i[mi:longueur]\n",
    "        liste.append(parent_i2)\n",
    "        \n",
    "    #Combinaison\n",
    "    \n",
    "    return liste"
   ]
  },
  {
   "cell_type": "code",
   "execution_count": null,
   "id": "ee15441e",
   "metadata": {},
   "outputs": [],
   "source": [
    "#Test et combinaison\n",
    "X1=[1,1,1,1,1,1,1,1]\n",
    "X2=[1,0,0,0,1,0,0,0]\n",
    "\n",
    "l1=elements_croisement_mi([X1,X2])\n",
    "l2=[]\n",
    "from itertools import combinations\n",
    "for i,j in combinations(l1,2):\n",
    "    l2.append(i+j)\n",
    "l2"
   ]
  },
  {
   "cell_type": "markdown",
   "id": "8c486061",
   "metadata": {},
   "source": [
    "<h3>Croisements Uniforme</h3>"
   ]
  },
  {
   "cell_type": "code",
   "execution_count": null,
   "id": "594ebf10",
   "metadata": {},
   "outputs": [],
   "source": [
    "def crossover(parent_a, parent_b):\n",
    "    fils=[];\n",
    "    for i in range(len(parent_a)):\n",
    "        choix=numpy.random.randint(2) #Choisir entre deux nombres 0 et 1\n",
    "        \n",
    "        if (choix==0):\n",
    "            fils.append(parent_a[i])\n",
    "        if (choix==1):\n",
    "            fils.append(parent_b[i])\n",
    "    return fils"
   ]
  },
  {
   "cell_type": "code",
   "execution_count": null,
   "id": "9bd2993b",
   "metadata": {},
   "outputs": [],
   "source": [
    "f=crossover(population[1],population[3])\n",
    "f"
   ]
  },
  {
   "cell_type": "markdown",
   "id": "be4938c0",
   "metadata": {},
   "source": [
    "<h3>Croisements des parents de chaque ligne du select pour avoir la pop. fille</h3>"
   ]
  },
  {
   "cell_type": "code",
   "execution_count": null,
   "id": "c50cf090",
   "metadata": {},
   "outputs": [],
   "source": [
    "def offspring(list_sel=list_sel):\n",
    "    pop_fille=[]\n",
    "    for i in list_sel:\n",
    "        fille=crossover(population[i[0]],population[i[1]])\n",
    "        pop_fille.append(fille)\n",
    "    return pop_fille"
   ]
  },
  {
   "cell_type": "code",
   "execution_count": null,
   "id": "d48a9c1e",
   "metadata": {},
   "outputs": [],
   "source": [
    "population_fille=offspring()\n",
    "population_fille"
   ]
  },
  {
   "cell_type": "markdown",
   "id": "9b83adf8",
   "metadata": {},
   "source": [
    "<h3>Mutation</h3>"
   ]
  },
  {
   "cell_type": "code",
   "execution_count": null,
   "id": "e789b6a8",
   "metadata": {},
   "outputs": [],
   "source": [
    "def mutation(individu):\n",
    "    \n",
    "    individu2=copy(individu)\n",
    "    #Associer une probabilité à chaque case \n",
    "    #Une probabilité est un nombre entre 0 et 1 donc 1/p avec p non nul\n",
    "    #Si p <= seuil on mute la case sinon on le garde\n",
    "    \n",
    "    seuil=1/8\n",
    "    p=100\n",
    "    \n",
    "    for i in range(0,len(individu2)):\n",
    "        test=\"Refaire\"\n",
    "        while(test==\"Refaire\"):\n",
    "            deno=numpy.random.randint(p)\n",
    "            if (deno!=0):\n",
    "                prob=1/deno\n",
    "                test=\"Arret\"\n",
    "                if prob<seuil:\n",
    "                    individu2[i]=numpy.abs(1-individu2[i])\n",
    "            \n",
    "    return individu2"
   ]
  },
  {
   "cell_type": "code",
   "execution_count": null,
   "id": "221b24e3",
   "metadata": {},
   "outputs": [],
   "source": [
    "#Test mutation\n",
    "individu_q=population[15]\n",
    "print(individu_q)\n",
    "individu_=mutation(individu_q)\n",
    "print(individu_)"
   ]
  },
  {
   "cell_type": "code",
   "execution_count": null,
   "id": "23e94314",
   "metadata": {},
   "outputs": [],
   "source": []
  },
  {
   "cell_type": "code",
   "execution_count": null,
   "id": "776aaf11",
   "metadata": {},
   "outputs": [],
   "source": []
  }
 ],
 "metadata": {
  "kernelspec": {
   "display_name": "mainconda",
   "language": "python",
   "name": "mainconda"
  },
  "language_info": {
   "codemirror_mode": {
    "name": "ipython",
    "version": 3
   },
   "file_extension": ".py",
   "mimetype": "text/x-python",
   "name": "python",
   "nbconvert_exporter": "python",
   "pygments_lexer": "ipython3",
   "version": "3.9.7"
  },
  "varInspector": {
   "cols": {
    "lenName": 16,
    "lenType": 16,
    "lenVar": 40
   },
   "kernels_config": {
    "python": {
     "delete_cmd_postfix": "",
     "delete_cmd_prefix": "del ",
     "library": "var_list.py",
     "varRefreshCmd": "print(var_dic_list())"
    },
    "r": {
     "delete_cmd_postfix": ") ",
     "delete_cmd_prefix": "rm(",
     "library": "var_list.r",
     "varRefreshCmd": "cat(var_dic_list()) "
    }
   },
   "types_to_exclude": [
    "module",
    "function",
    "builtin_function_or_method",
    "instance",
    "_Feature"
   ],
   "window_display": false
  }
 },
 "nbformat": 4,
 "nbformat_minor": 5
}
