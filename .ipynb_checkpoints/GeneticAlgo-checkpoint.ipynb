{
 "cells": [
  {
   "cell_type": "markdown",
   "id": "17f6e592",
   "metadata": {},
   "source": [
    "<h1><center>ALGORITHMES GENETIQUES</center></h1>"
   ]
  },
  {
   "cell_type": "code",
   "execution_count": 1,
   "id": "a01fb9cd",
   "metadata": {},
   "outputs": [],
   "source": [
    "import sympy\n",
    "import math\n",
    "import numpy\n",
    "import math\n",
    "from copy import copy"
   ]
  },
  {
   "cell_type": "code",
   "execution_count": 2,
   "id": "67a9c03a",
   "metadata": {},
   "outputs": [],
   "source": [
    "# Configurer une imprimante\n",
    "#sympy.init_printing()"
   ]
  },
  {
   "cell_type": "markdown",
   "id": "e5a00e64",
   "metadata": {},
   "source": [
    "<h3>Création de la fonction</h3>"
   ]
  },
  {
   "cell_type": "code",
   "execution_count": 3,
   "id": "9624aec1",
   "metadata": {},
   "outputs": [],
   "source": [
    "#x=sympy.symbols('x')\n",
    "#fonction=sympy.sin((x*sympy.pi)/(255))\n",
    "#fonction"
   ]
  },
  {
   "cell_type": "code",
   "execution_count": 4,
   "id": "2fbb23c9",
   "metadata": {},
   "outputs": [],
   "source": [
    "#Test x=1:\n",
    "#fonction.subs({x:1})"
   ]
  },
  {
   "cell_type": "code",
   "execution_count": 5,
   "id": "29acf6d3",
   "metadata": {},
   "outputs": [],
   "source": [
    "fonction=lambda x: numpy.sin((x*numpy.pi)/(255))"
   ]
  },
  {
   "cell_type": "code",
   "execution_count": 6,
   "id": "17150c9c",
   "metadata": {},
   "outputs": [],
   "source": [
    "#binary = bin(16)\n",
    "#binary\n",
    "X=[1,1,1,1,1,1,1,1]\n",
    "Y=[1,0,0,0,1,0,0,0]"
   ]
  },
  {
   "cell_type": "code",
   "execution_count": 7,
   "id": "17783fec",
   "metadata": {},
   "outputs": [],
   "source": [
    "def liste_en_decimale(X):\n",
    "    binaire=0\n",
    "    taille=len(X)-1\n",
    "    \n",
    "    for i in X:\n",
    "        binaire+=(2**taille)*i\n",
    "        taille=taille-1\n",
    "        \n",
    "    return binaire"
   ]
  },
  {
   "cell_type": "code",
   "execution_count": 8,
   "id": "3933c1d6",
   "metadata": {},
   "outputs": [
    {
     "data": {
      "text/plain": [
       "255"
      ]
     },
     "execution_count": 8,
     "metadata": {},
     "output_type": "execute_result"
    }
   ],
   "source": [
    "#Test:\n",
    "a=liste_en_decimale(X)\n",
    "a"
   ]
  },
  {
   "cell_type": "markdown",
   "id": "ffa7e6ea",
   "metadata": {},
   "source": [
    "<h3>Génération de la population</h3>"
   ]
  },
  {
   "cell_type": "code",
   "execution_count": 9,
   "id": "b0107f57",
   "metadata": {},
   "outputs": [
    {
     "data": {
      "text/plain": [
       "array([1, 0, 1, 0, 1, 1, 0, 1])"
      ]
     },
     "execution_count": 9,
     "metadata": {},
     "output_type": "execute_result"
    }
   ],
   "source": [
    "#Test numpy.random.choice:\n",
    "numpy.random.choice((0,1),8) #Ici c'est juste entre les valeurs 0 et 1 le choix"
   ]
  },
  {
   "cell_type": "code",
   "execution_count": 10,
   "id": "a63d7d2d",
   "metadata": {},
   "outputs": [
    {
     "data": {
      "text/plain": [
       "array([1, 0, 0, 3, 4, 3, 0, 0])"
      ]
     },
     "execution_count": 10,
     "metadata": {},
     "output_type": "execute_result"
    }
   ],
   "source": [
    "numpy.random.choice(5,8)"
   ]
  },
  {
   "cell_type": "code",
   "execution_count": 11,
   "id": "0585400d",
   "metadata": {},
   "outputs": [
    {
     "data": {
      "text/plain": [
       "array([4, 3, 4, 4, 3, 0, 4, 0, 4, 0])"
      ]
     },
     "execution_count": 11,
     "metadata": {},
     "output_type": "execute_result"
    }
   ],
   "source": [
    "#Test2 numpy.random.choice\n",
    "numpy.random.choice(5, 10) #Ici c'est entre les valeurs de 0 à 4 le choix"
   ]
  },
  {
   "cell_type": "code",
   "execution_count": 12,
   "id": "13cd052d",
   "metadata": {},
   "outputs": [],
   "source": [
    "def randpop(pop_size=20,plage_valeurs=1):\n",
    "    population=[]\n",
    "    for i in range(pop_size):\n",
    "        nouveau=numpy.random.choice(plage_valeurs+1,8)\n",
    "        population.append(nouveau)\n",
    "    return population"
   ]
  },
  {
   "cell_type": "code",
   "execution_count": 13,
   "id": "54edd7e2",
   "metadata": {},
   "outputs": [
    {
     "data": {
      "text/plain": [
       "[array([0, 1, 1, 1, 0, 0, 1, 0]),\n",
       " array([1, 0, 1, 1, 0, 1, 1, 0]),\n",
       " array([0, 1, 0, 0, 0, 0, 1, 1]),\n",
       " array([1, 0, 1, 0, 1, 0, 0, 1]),\n",
       " array([0, 1, 1, 0, 0, 1, 0, 0]),\n",
       " array([1, 0, 0, 0, 1, 0, 0, 0]),\n",
       " array([0, 1, 1, 1, 0, 1, 1, 0]),\n",
       " array([0, 0, 1, 1, 1, 0, 0, 1]),\n",
       " array([0, 0, 1, 1, 0, 0, 1, 1]),\n",
       " array([0, 1, 1, 0, 1, 0, 1, 1])]"
      ]
     },
     "execution_count": 13,
     "metadata": {},
     "output_type": "execute_result"
    }
   ],
   "source": [
    "#Application de création de la population\n",
    "population=randpop(10,1)\n",
    "population"
   ]
  },
  {
   "cell_type": "markdown",
   "id": "49d4a3cc",
   "metadata": {},
   "source": [
    "<h3>Selection deux à deux des parents</h3>"
   ]
  },
  {
   "cell_type": "code",
   "execution_count": 14,
   "id": "f69d1d4c",
   "metadata": {},
   "outputs": [
    {
     "name": "stdout",
     "output_type": "stream",
     "text": [
      "1\n",
      "1\n",
      "1\n",
      "1\n",
      "0\n",
      "1\n",
      "1\n",
      "1\n",
      "0\n",
      "1\n"
     ]
    }
   ],
   "source": [
    "#Test numpy.random.randint\n",
    "for i in range(10):\n",
    "    a=numpy.random.randint(2)\n",
    "    print(a)"
   ]
  },
  {
   "cell_type": "code",
   "execution_count": 15,
   "id": "4db9a1a4",
   "metadata": {},
   "outputs": [],
   "source": [
    "def select(pop_size=10,n_parents=2):\n",
    "    liste_selection=[]\n",
    "    for i in range(pop_size):\n",
    "        sous_liste=[]\n",
    "        for i in range(n_parents):\n",
    "            a=numpy.random.randint(pop_size)\n",
    "            sous_liste.append(a)\n",
    "        liste_selection.append(sous_liste)\n",
    "        \n",
    "    return liste_selection"
   ]
  },
  {
   "cell_type": "code",
   "execution_count": 16,
   "id": "8d4ab899",
   "metadata": {},
   "outputs": [
    {
     "data": {
      "text/plain": [
       "[[8, 8],\n",
       " [8, 0],\n",
       " [5, 4],\n",
       " [4, 7],\n",
       " [1, 9],\n",
       " [8, 9],\n",
       " [2, 4],\n",
       " [9, 7],\n",
       " [3, 4],\n",
       " [6, 0]]"
      ]
     },
     "execution_count": 16,
     "metadata": {},
     "output_type": "execute_result"
    }
   ],
   "source": [
    "#Application selection de la population\n",
    "list_sel=select()\n",
    "list_sel"
   ]
  },
  {
   "cell_type": "markdown",
   "id": "166a9a04",
   "metadata": {},
   "source": [
    "<h3>Croisements Mi</h3>"
   ]
  },
  {
   "cell_type": "code",
   "execution_count": 17,
   "id": "6c4f387e",
   "metadata": {},
   "outputs": [],
   "source": [
    "def elements_croisement_mi(n_parents):\n",
    "    \n",
    "    #n_parents doit etre une liste de parents\n",
    "    #Pour chaque parent on va créer deux sous chaines moitié moitié et insérer toutes ces moitiés dans une liste unique\n",
    "    \n",
    "    liste=[]\n",
    "    for parent_i in n_parents:\n",
    "        longueur=len(parent_i)\n",
    "        \n",
    "        mi=math.floor(longueur/2)\n",
    "        \n",
    "        parent_i1=parent_i[0:mi]\n",
    "        liste.append(parent_i1)\n",
    "        parent_i2=parent_i[mi:longueur]\n",
    "        liste.append(parent_i2)\n",
    "        \n",
    "    #Combinaison\n",
    "    \n",
    "    return liste"
   ]
  },
  {
   "cell_type": "code",
   "execution_count": 18,
   "id": "ee15441e",
   "metadata": {},
   "outputs": [
    {
     "data": {
      "text/plain": [
       "[[1, 1, 1, 1, 1, 1, 1, 1],\n",
       " [1, 1, 1, 1, 1, 0, 0, 0],\n",
       " [1, 1, 1, 1, 1, 0, 0, 0],\n",
       " [1, 1, 1, 1, 1, 0, 0, 0],\n",
       " [1, 1, 1, 1, 1, 0, 0, 0],\n",
       " [1, 0, 0, 0, 1, 0, 0, 0]]"
      ]
     },
     "execution_count": 18,
     "metadata": {},
     "output_type": "execute_result"
    }
   ],
   "source": [
    "#Test et combinaison\n",
    "X1=[1,1,1,1,1,1,1,1]\n",
    "X2=[1,0,0,0,1,0,0,0]\n",
    "\n",
    "l1=elements_croisement_mi([X1,X2])\n",
    "l2=[]\n",
    "from itertools import combinations\n",
    "for i,j in combinations(l1,2):\n",
    "    l2.append(i+j)\n",
    "l2"
   ]
  },
  {
   "cell_type": "markdown",
   "id": "8c486061",
   "metadata": {},
   "source": [
    "<h3>Croisements Uniforme</h3>"
   ]
  },
  {
   "cell_type": "code",
   "execution_count": 19,
   "id": "594ebf10",
   "metadata": {},
   "outputs": [],
   "source": [
    "def crossover(parent_a, parent_b):\n",
    "    fils=[];\n",
    "    for i in range(len(parent_a)):\n",
    "        choix=numpy.random.randint(2) #Choisir entre deux nombres 0 et 1\n",
    "        \n",
    "        if (choix==0):\n",
    "            fils.append(parent_a[i])\n",
    "        if (choix==1):\n",
    "            fils.append(parent_b[i])\n",
    "    return fils"
   ]
  },
  {
   "cell_type": "code",
   "execution_count": 20,
   "id": "9bd2993b",
   "metadata": {},
   "outputs": [
    {
     "data": {
      "text/plain": [
       "[1, 0, 1, 1, 0, 1, 1, 1]"
      ]
     },
     "execution_count": 20,
     "metadata": {},
     "output_type": "execute_result"
    }
   ],
   "source": [
    "#Test sur deux parents pris au hasard\n",
    "f=crossover(population[1],population[3])\n",
    "f"
   ]
  },
  {
   "cell_type": "markdown",
   "id": "be4938c0",
   "metadata": {},
   "source": [
    "<h3>Croisements des parents de chaque ligne du select pour avoir la pop. fille</h3>"
   ]
  },
  {
   "cell_type": "code",
   "execution_count": 21,
   "id": "c50cf090",
   "metadata": {},
   "outputs": [],
   "source": [
    "def offspring(list_sel_=list_sel, population1=population):\n",
    "    pop_fille=[]\n",
    "    for i in list_sel_:\n",
    "        fille=crossover(population1[i[0]],population1[i[1]])\n",
    "        pop_fille.append(fille)\n",
    "    return pop_fille"
   ]
  },
  {
   "cell_type": "code",
   "execution_count": 22,
   "id": "d48a9c1e",
   "metadata": {},
   "outputs": [
    {
     "data": {
      "text/plain": [
       "[[0, 0, 1, 1, 0, 0, 1, 1],\n",
       " [0, 1, 1, 1, 0, 0, 1, 0],\n",
       " [0, 1, 0, 0, 0, 0, 0, 0],\n",
       " [0, 0, 1, 1, 1, 1, 0, 0],\n",
       " [1, 1, 1, 0, 0, 0, 1, 0],\n",
       " [0, 1, 1, 1, 0, 0, 1, 1],\n",
       " [0, 1, 0, 0, 0, 0, 0, 0],\n",
       " [0, 0, 1, 0, 1, 0, 1, 1],\n",
       " [1, 1, 1, 0, 1, 1, 0, 0],\n",
       " [0, 1, 1, 1, 0, 1, 1, 0]]"
      ]
     },
     "execution_count": 22,
     "metadata": {},
     "output_type": "execute_result"
    }
   ],
   "source": [
    "#Application du croisement par génération d'une population fille\n",
    "population_fille=offspring()\n",
    "population_fille"
   ]
  },
  {
   "cell_type": "markdown",
   "id": "b2951aba",
   "metadata": {},
   "source": [
    "<h3>Mise en commun des deux populations:</h3>"
   ]
  },
  {
   "cell_type": "code",
   "execution_count": 23,
   "id": "9a5b9dd4",
   "metadata": {},
   "outputs": [
    {
     "data": {
      "text/plain": [
       "array([[0, 0, 1, 1, 0, 0, 1, 1],\n",
       "       [0, 1, 1, 1, 0, 0, 1, 0],\n",
       "       [0, 1, 0, 0, 0, 0, 0, 0],\n",
       "       [0, 0, 1, 1, 1, 1, 0, 0],\n",
       "       [1, 1, 1, 0, 0, 0, 1, 0],\n",
       "       [0, 1, 1, 1, 0, 0, 1, 1],\n",
       "       [0, 1, 0, 0, 0, 0, 0, 0],\n",
       "       [0, 0, 1, 0, 1, 0, 1, 1],\n",
       "       [1, 1, 1, 0, 1, 1, 0, 0],\n",
       "       [0, 1, 1, 1, 0, 1, 1, 0]])"
      ]
     },
     "execution_count": 23,
     "metadata": {},
     "output_type": "execute_result"
    }
   ],
   "source": [
    "array_pop_fille=numpy.array(population_fille)\n",
    "array_pop_fille"
   ]
  },
  {
   "cell_type": "code",
   "execution_count": 24,
   "id": "5e45d6ef",
   "metadata": {},
   "outputs": [
    {
     "data": {
      "text/plain": [
       "array([[0, 1, 1, 1, 0, 0, 1, 0],\n",
       "       [1, 0, 1, 1, 0, 1, 1, 0],\n",
       "       [0, 1, 0, 0, 0, 0, 1, 1],\n",
       "       [1, 0, 1, 0, 1, 0, 0, 1],\n",
       "       [0, 1, 1, 0, 0, 1, 0, 0],\n",
       "       [1, 0, 0, 0, 1, 0, 0, 0],\n",
       "       [0, 1, 1, 1, 0, 1, 1, 0],\n",
       "       [0, 0, 1, 1, 1, 0, 0, 1],\n",
       "       [0, 0, 1, 1, 0, 0, 1, 1],\n",
       "       [0, 1, 1, 0, 1, 0, 1, 1],\n",
       "       [0, 0, 1, 1, 0, 0, 1, 1],\n",
       "       [0, 1, 1, 1, 0, 0, 1, 0],\n",
       "       [0, 1, 0, 0, 0, 0, 0, 0],\n",
       "       [0, 0, 1, 1, 1, 1, 0, 0],\n",
       "       [1, 1, 1, 0, 0, 0, 1, 0],\n",
       "       [0, 1, 1, 1, 0, 0, 1, 1],\n",
       "       [0, 1, 0, 0, 0, 0, 0, 0],\n",
       "       [0, 0, 1, 0, 1, 0, 1, 1],\n",
       "       [1, 1, 1, 0, 1, 1, 0, 0],\n",
       "       [0, 1, 1, 1, 0, 1, 1, 0]])"
      ]
     },
     "execution_count": 24,
     "metadata": {},
     "output_type": "execute_result"
    }
   ],
   "source": [
    "new_population=numpy.vstack((population, array_pop_fille))\n",
    "new_population"
   ]
  },
  {
   "cell_type": "markdown",
   "id": "9b83adf8",
   "metadata": {},
   "source": [
    "<h3>Mutation binaire</h3>"
   ]
  },
  {
   "cell_type": "code",
   "execution_count": 25,
   "id": "e789b6a8",
   "metadata": {},
   "outputs": [],
   "source": [
    "def mutation(individu):\n",
    "    \n",
    "    individu2=copy(individu)\n",
    "    #Associer une probabilité à chaque case \n",
    "    #Une probabilité est un nombre entre 0 et 1 donc 1/p avec p non nul\n",
    "    #Si p <= seuil on mute la case sinon on le garde\n",
    "    \n",
    "    seuil=1/8\n",
    "    p=100\n",
    "    \n",
    "    for i in range(0,len(individu2)):\n",
    "        test=\"Refaire\"\n",
    "        while(test==\"Refaire\"):\n",
    "            deno=numpy.random.randint(p)\n",
    "            if (deno!=0):\n",
    "                prob=1/deno\n",
    "                test=\"Arret\"\n",
    "                if prob<seuil:\n",
    "                    individu2[i]=numpy.abs(1-individu2[i])\n",
    "            \n",
    "    return individu2"
   ]
  },
  {
   "cell_type": "markdown",
   "id": "a864a48e",
   "metadata": {},
   "source": [
    "<h3>Mutation quelconque</h3>"
   ]
  },
  {
   "cell_type": "code",
   "execution_count": 26,
   "id": "f01eb7a6",
   "metadata": {},
   "outputs": [],
   "source": [
    "def mutation_quelconque(individu):\n",
    "    \n",
    "    individu2=copy(individu)\n",
    "    #Associer une probabilité à chaque case \n",
    "    #Une probabilité est un nombre entre 0 et 1 donc 1/p avec p non nul\n",
    "    #Si p <= seuil on mute la case sinon on le garde\n",
    "    \n",
    "    seuil=1/8\n",
    "    p=100\n",
    "    \n",
    "    for i in range(0,len(individu2)):\n",
    "        test=\"Refaire\"\n",
    "        while(test==\"Refaire\"):\n",
    "            deno=numpy.random.randint(p)\n",
    "            if (deno!=0):\n",
    "                prob=1/deno\n",
    "                test=\"Arret\"\n",
    "                if prob<seuil:\n",
    "                    individu2[i]=numpy.abs(1-individu2[i])\n",
    "            \n",
    "    return individu2"
   ]
  },
  {
   "cell_type": "code",
   "execution_count": 27,
   "id": "221b24e3",
   "metadata": {},
   "outputs": [
    {
     "name": "stdout",
     "output_type": "stream",
     "text": [
      "[1 0 0 0 1 0 0 0]\n",
      "[0 1 1 1 0 1 1 1]\n"
     ]
    }
   ],
   "source": [
    "#Test mutation sur un individu\n",
    "individu_q=population[5]\n",
    "print(individu_q)\n",
    "individu_=mutation(individu_q)\n",
    "print(individu_)"
   ]
  },
  {
   "cell_type": "code",
   "execution_count": 28,
   "id": "aa2461b2",
   "metadata": {},
   "outputs": [
    {
     "data": {
      "text/plain": [
       "array([[0, 1, 1, 1, 0, 0, 1, 0],\n",
       "       [0, 1, 0, 0, 1, 0, 0, 1],\n",
       "       [1, 0, 1, 1, 1, 1, 0, 0],\n",
       "       [0, 1, 0, 1, 0, 1, 1, 0],\n",
       "       [0, 1, 1, 0, 0, 1, 0, 0],\n",
       "       [0, 1, 1, 1, 0, 1, 1, 1],\n",
       "       [1, 0, 0, 0, 1, 0, 0, 1],\n",
       "       [1, 1, 0, 0, 0, 1, 1, 0],\n",
       "       [1, 1, 0, 0, 1, 1, 0, 0],\n",
       "       [1, 0, 0, 1, 0, 1, 0, 0],\n",
       "       [1, 1, 0, 0, 1, 1, 0, 0],\n",
       "       [1, 0, 0, 0, 1, 1, 0, 1],\n",
       "       [1, 0, 1, 1, 1, 1, 1, 1],\n",
       "       [1, 1, 0, 0, 0, 0, 1, 1],\n",
       "       [0, 0, 0, 1, 1, 1, 0, 1],\n",
       "       [1, 0, 0, 0, 1, 1, 0, 0],\n",
       "       [1, 0, 1, 1, 1, 1, 1, 1],\n",
       "       [0, 0, 1, 0, 1, 0, 1, 1],\n",
       "       [0, 0, 0, 1, 0, 0, 1, 1],\n",
       "       [1, 0, 0, 0, 1, 0, 0, 1]])"
      ]
     },
     "execution_count": 28,
     "metadata": {},
     "output_type": "execute_result"
    }
   ],
   "source": [
    "#Mutations sur toute la population:\n",
    "population_muted=mutation(new_population)\n",
    "population_muted"
   ]
  },
  {
   "cell_type": "markdown",
   "id": "410c2327",
   "metadata": {},
   "source": [
    "<h3>Survival - Plus hautes fitness</h3>"
   ]
  },
  {
   "cell_type": "code",
   "execution_count": 29,
   "id": "86e8ff4a",
   "metadata": {},
   "outputs": [],
   "source": [
    "def survival(pop, n_survivors,f=fonction,binaire=True):\n",
    "    #Conversion de la population en liste:\n",
    "    pop_list=pop.tolist()\n",
    "    \n",
    "    #Forme decimale des individus\n",
    "    if(binaire):\n",
    "        pop_decimale=[]\n",
    "        for i in pop_list:\n",
    "            i=liste_en_decimale(i)\n",
    "            pop_decimale.append(i)\n",
    "    else:\n",
    "        pop_decimale=pop_list\n",
    "    \n",
    "    #Calcul de la fitness\n",
    "    fitness=[]\n",
    "    for i in pop_decimale:\n",
    "        fitness.append(f(i))\n",
    "        \n",
    "    #Ordonner les fitness\n",
    "    fitness1=copy(fitness)\n",
    "    fitness1.sort(reverse=True) #Procéder comme ça trie par ordre décroissant\n",
    "    final_survivors_fitness=copy(fitness1[:n_survivors])\n",
    "    \n",
    "    #Ici on veut avoir les indices des éléments triés avec argsort. \n",
    "    fitness2=copy(fitness)\n",
    "    sort_croissant_index = numpy.argsort(fitness2).tolist()\n",
    "    \n",
    "    #Mais on a trie par ordre croissant donc on va renverser cette liste pour les avoir en decroissant\n",
    "    taille = len(sort_croissant_index) - 1\n",
    "    sort_decroissant_index = []\n",
    "    while (taille >= 0):\n",
    "        sort_decroissant_index.append(sort_croissant_index[taille])\n",
    "        taille = taille - 1\n",
    "\n",
    "    #Choix des n_survivors premiers avec meilleure fitness ayant leurs indices dans sort_decroissant_index\n",
    "    premiers_index=copy(sort_decroissant_index[:n_survivors])\n",
    "    \n",
    "    #Les individus ayant premiers_index\n",
    "    final_survivors=[]\n",
    "    for i in premiers_index:\n",
    "        final_survivors.append(pop_list[i])\n",
    "    \n",
    "    \n",
    "    return (final_survivors,final_survivors_fitness)"
   ]
  },
  {
   "cell_type": "code",
   "execution_count": 30,
   "id": "86fddc67",
   "metadata": {},
   "outputs": [
    {
     "data": {
      "text/plain": [
       "([[0, 1, 1, 1, 0, 1, 1, 1],\n",
       "  [1, 0, 0, 0, 1, 0, 0, 1],\n",
       "  [1, 0, 0, 0, 1, 0, 0, 1],\n",
       "  [1, 0, 0, 0, 1, 1, 0, 0],\n",
       "  [1, 0, 0, 0, 1, 1, 0, 1],\n",
       "  [0, 1, 1, 1, 0, 0, 1, 0],\n",
       "  [1, 0, 0, 1, 0, 1, 0, 0],\n",
       "  [0, 1, 1, 0, 0, 1, 0, 0],\n",
       "  [0, 1, 0, 1, 0, 1, 1, 0],\n",
       "  [0, 1, 0, 0, 1, 0, 0, 1]],\n",
       " [0.9945218953682733,\n",
       "  0.9931586661366362,\n",
       "  0.9931586661366362,\n",
       "  0.9881654720812594,\n",
       "  0.9862007473534026,\n",
       "  0.9862007473534026,\n",
       "  0.9682760409157589,\n",
       "  0.9431544344712774,\n",
       "  0.8721195109836107,\n",
       "  0.7829276104921028])"
      ]
     },
     "execution_count": 30,
     "metadata": {},
     "output_type": "execute_result"
    }
   ],
   "source": [
    "#Application sur la population mutée\n",
    "\n",
    "survivants=survival(population_muted,10,fonction)\n",
    "survivants # Il s'agira d'un tuple avec à l'index 0 les survivants et à l'index 1 leurs fitness chacune"
   ]
  },
  {
   "cell_type": "markdown",
   "id": "b53de2f8",
   "metadata": {},
   "source": [
    "<h3>Survival - Plus basses fitness</h3>"
   ]
  },
  {
   "cell_type": "code",
   "execution_count": 31,
   "id": "825fde5c",
   "metadata": {},
   "outputs": [],
   "source": [
    "def survival_(pop, n_survivors,f=fonction,binaire=True):\n",
    "    #Conversion de la population en liste:\n",
    "    pop_list=pop.tolist()\n",
    "    \n",
    "    #Forme decimale des individus\n",
    "    if(binaire):\n",
    "        pop_decimale=[]\n",
    "        for i in pop_list:\n",
    "            i=liste_en_decimale(i)\n",
    "            pop_decimale.append(i)\n",
    "    else:\n",
    "        pop_decimale=pop_list\n",
    "    \n",
    "    #Calcul de la fitness\n",
    "    fitness=[]\n",
    "    for i in pop_decimale:\n",
    "        fitness.append(f(i))\n",
    "        \n",
    "    #Ordonner les fitness\n",
    "    fitness2=copy(fitness)\n",
    "    fitness2.sort() #Procéder comme ça trie par ordre décroissant\n",
    "    final2_survivors_fitness=copy(fitness2[:n_survivors])\n",
    "    \n",
    "    #Ici on veut avoir les indices des éléments triés avec argsort. \n",
    "    fitness2=copy(fitness)\n",
    "    sort_croissant_index = numpy.argsort(fitness2).tolist()\n",
    "    \n",
    "\n",
    "    #Choix des n_survivors premiers avec meilleure fitness ayant leurs indices dans sort_decroissant_index\n",
    "    derniers_index=copy(sort_croissant_index[:n_survivors])\n",
    "    \n",
    "    #Les individus ayant premiers_index\n",
    "    final2_survivors=[]\n",
    "    for i in derniers_index:\n",
    "        final2_survivors.append(pop_list[i])\n",
    "    \n",
    "    \n",
    "    return (final2_survivors,final2_survivors_fitness)"
   ]
  },
  {
   "cell_type": "code",
   "execution_count": 32,
   "id": "f4f983c3",
   "metadata": {},
   "outputs": [
    {
     "data": {
      "text/plain": [
       "([[0, 0, 0, 1, 0, 0, 1, 1],\n",
       "  [0, 0, 0, 1, 1, 1, 0, 1],\n",
       "  [0, 0, 1, 0, 1, 0, 1, 1],\n",
       "  [1, 1, 0, 0, 1, 1, 0, 0],\n",
       "  [1, 1, 0, 0, 1, 1, 0, 0],\n",
       "  [1, 1, 0, 0, 0, 1, 1, 0],\n",
       "  [1, 1, 0, 0, 0, 0, 1, 1],\n",
       "  [1, 0, 1, 1, 1, 1, 1, 1],\n",
       "  [1, 0, 1, 1, 1, 1, 1, 1],\n",
       "  [1, 0, 1, 1, 1, 1, 0, 0]],\n",
       " [0.23194764145389812,\n",
       "  0.34972651120626114,\n",
       "  0.505325183948948,\n",
       "  0.5877852522924732,\n",
       "  0.5877852522924732,\n",
       "  0.6459280624867872,\n",
       "  0.6736956436465573,\n",
       "  0.7092813076058535,\n",
       "  0.7092813076058535,\n",
       "  0.7348449670469757])"
      ]
     },
     "execution_count": 32,
     "metadata": {},
     "output_type": "execute_result"
    }
   ],
   "source": [
    "#Application sur la population mutée\n",
    "\n",
    "survivants2=survival_(population_muted,10,fonction)\n",
    "survivants2"
   ]
  },
  {
   "cell_type": "markdown",
   "id": "613a490a",
   "metadata": {},
   "source": [
    "<h3>Elimination des duplicata sur les fitness les plus hautes</h3>"
   ]
  },
  {
   "cell_type": "code",
   "execution_count": 33,
   "id": "9bf9bfbc",
   "metadata": {},
   "outputs": [],
   "source": [
    "from scipy.spatial.distance import cdist\n",
    "\n",
    "def eliminate_duplicates(X):\n",
    "    D = cdist(X, X)\n",
    "    D[numpy.triu_indices(len(X))] = numpy.inf\n",
    "    return numpy.all(D > 1e-32, axis=1)"
   ]
  },
  {
   "cell_type": "code",
   "execution_count": 34,
   "id": "833226b1",
   "metadata": {},
   "outputs": [
    {
     "data": {
      "text/plain": [
       "array([[0, 1, 1, 1, 0, 1, 1, 1],\n",
       "       [1, 0, 0, 0, 1, 0, 0, 1],\n",
       "       [1, 0, 0, 0, 1, 0, 0, 1],\n",
       "       [1, 0, 0, 0, 1, 1, 0, 0],\n",
       "       [1, 0, 0, 0, 1, 1, 0, 1],\n",
       "       [0, 1, 1, 1, 0, 0, 1, 0],\n",
       "       [1, 0, 0, 1, 0, 1, 0, 0],\n",
       "       [0, 1, 1, 0, 0, 1, 0, 0],\n",
       "       [0, 1, 0, 1, 0, 1, 1, 0],\n",
       "       [0, 1, 0, 0, 1, 0, 0, 1]])"
      ]
     },
     "execution_count": 34,
     "metadata": {},
     "output_type": "execute_result"
    }
   ],
   "source": [
    "#Recupération des survivants\n",
    "survivants_=survivants[0]\n",
    "survivants_fitn=survivants[1]\n",
    "survivants_=numpy.array(survivants_)\n",
    "survivants_fitn=numpy.array(survivants_fitn)\n",
    "survivants_"
   ]
  },
  {
   "cell_type": "code",
   "execution_count": 35,
   "id": "49588ebb",
   "metadata": {},
   "outputs": [
    {
     "data": {
      "text/plain": [
       "array([ True,  True, False,  True,  True,  True,  True,  True,  True,\n",
       "        True])"
      ]
     },
     "execution_count": 35,
     "metadata": {},
     "output_type": "execute_result"
    }
   ],
   "source": [
    "#Recupération du masque bool retoour de la fonction eliminate_duplicates sur survivants_\n",
    "pop_sansduplicata_maskbool=eliminate_duplicates(survivants_)\n",
    "pop_sansduplicata_maskbool"
   ]
  },
  {
   "cell_type": "code",
   "execution_count": 36,
   "id": "094c4213",
   "metadata": {},
   "outputs": [
    {
     "data": {
      "text/plain": [
       "array([[0, 1, 1, 1, 0, 1, 1, 1],\n",
       "       [1, 0, 0, 0, 1, 0, 0, 1],\n",
       "       [1, 0, 0, 0, 1, 1, 0, 0],\n",
       "       [1, 0, 0, 0, 1, 1, 0, 1],\n",
       "       [0, 1, 1, 1, 0, 0, 1, 0],\n",
       "       [1, 0, 0, 1, 0, 1, 0, 0],\n",
       "       [0, 1, 1, 0, 0, 1, 0, 0],\n",
       "       [0, 1, 0, 1, 0, 1, 1, 0],\n",
       "       [0, 1, 0, 0, 1, 0, 0, 1]])"
      ]
     },
     "execution_count": 36,
     "metadata": {},
     "output_type": "execute_result"
    }
   ],
   "source": [
    "#Application sur les survivants via le masque booléen\n",
    "pop_sansduplicata=survivants_[pop_sansduplicata_maskbool]\n",
    "pop_sansduplicata"
   ]
  },
  {
   "cell_type": "code",
   "execution_count": 37,
   "id": "462621b3",
   "metadata": {},
   "outputs": [
    {
     "data": {
      "text/plain": [
       "array([0.9945219 , 0.99315867, 0.98816547, 0.98620075, 0.98620075,\n",
       "       0.96827604, 0.94315443, 0.87211951, 0.78292761])"
      ]
     },
     "execution_count": 37,
     "metadata": {},
     "output_type": "execute_result"
    }
   ],
   "source": [
    "#Leur fitness\n",
    "fitness_pop_sansduplicata=survivants_fitn[pop_sansduplicata_maskbool]\n",
    "fitness_pop_sansduplicata"
   ]
  },
  {
   "cell_type": "markdown",
   "id": "73fb4a55",
   "metadata": {},
   "source": [
    "<h3>Creation du main</h3>"
   ]
  },
  {
   "cell_type": "code",
   "execution_count": 38,
   "id": "f09ec4b6",
   "metadata": {},
   "outputs": [],
   "source": [
    "def main(pop_size=10, nb_parents=2, nb_generations=2, nb_survivants=20, fonction_=fonction, plage_valeurs=1, binaire=True):\n",
    "    # Creation de la population\n",
    "    population_=randpop(pop_size,plage_valeurs)\n",
    "    \n",
    "    #Multiplication de la population\n",
    "    population_generee=copy(population_)\n",
    "    for i in range(nb_generations): \n",
    "        #Selection\n",
    "        list_select=select(pop_size,nb_parents)\n",
    "        #Croisements\n",
    "        population_fille_=offspring(list_select, population_generee)\n",
    "        array_pop_fille_=numpy.array(population_fille_)\n",
    "        new_population_=numpy.vstack((population_generee, array_pop_fille_))\n",
    "        #Mutations\n",
    "        if(binaire):\n",
    "            population_muted_=mutation(new_population_)\n",
    "        else:\n",
    "            population_muted_=new_population_\n",
    "        #Mise à jour variables\n",
    "        population_generee=population_muted_\n",
    "        pop_size=len(population_generee)\n",
    "    \n",
    "    #Les plus forts\n",
    "    \n",
    "    les_survivants=survival(population_generee,nb_survivants,fonction_,binaire)\n",
    "    \n",
    "    les_survivants_=les_survivants[0]\n",
    "    les_survivants_fitn=les_survivants[1]\n",
    "    \n",
    "    les_survivants_=numpy.array(les_survivants_)\n",
    "    les_survivants_fitn=numpy.array(les_survivants_fitn)\n",
    "    \n",
    "    pop_sansduplicata_maskbool_=eliminate_duplicates(les_survivants_)\n",
    "    \n",
    "    pop_sansduplicata_=les_survivants_[pop_sansduplicata_maskbool_]\n",
    "    \n",
    "    fitness_pop_sansduplicata_=les_survivants_fitn[pop_sansduplicata_maskbool_]\n",
    "    \n",
    "    #Les plus faibles\n",
    "    \n",
    "    les_survivants2=survival_(population_generee,nb_survivants,fonction_,binaire)\n",
    "    \n",
    "    les_survivants_2=les_survivants2[0]\n",
    "    les_survivants_fitn2=les_survivants2[1]\n",
    "    \n",
    "    les_survivants_2=numpy.array(les_survivants_2)\n",
    "    les_survivants_fitn2=numpy.array(les_survivants_fitn2)\n",
    "    \n",
    "    pop_sansduplicata_maskbool_2=eliminate_duplicates(les_survivants_2)\n",
    "    \n",
    "    pop_sansduplicata_2=les_survivants_2[pop_sansduplicata_maskbool_2]\n",
    "    \n",
    "    fitness_pop_sansduplicata_2=les_survivants_fitn2[pop_sansduplicata_maskbool_2]\n",
    "    \n",
    "    return (pop_sansduplicata_,fitness_pop_sansduplicata_,pop_sansduplicata_2,fitness_pop_sansduplicata_2,population_generee)"
   ]
  },
  {
   "cell_type": "code",
   "execution_count": 39,
   "id": "7ca04768",
   "metadata": {},
   "outputs": [],
   "source": [
    "def transformations_supp(pop_forte,fitness_forte,pop_faible,fitness_faible,la_population,binaire=True): #Le retourn de main\n",
    "    #Conversion de la population en liste:\n",
    "    popu_list=la_population.tolist()\n",
    "\n",
    "    #Forme decimale des individus\n",
    "    if(binaire):\n",
    "        popu_decimale=[]\n",
    "        for i in popu_list:\n",
    "            i=liste_en_decimale(i)\n",
    "            popu_decimale.append(i)\n",
    "    else:\n",
    "        pop_decimale=pop_list\n",
    "\n",
    "    #Calcul de la fitness\n",
    "    fitnesses=[]\n",
    "    for i in popu_decimale:\n",
    "        fitnesses.append(fonction(i)) \n",
    "\n",
    "    fitness_array=numpy.array(fitnesses)\n",
    "    moy=fitness_array.mean()\n",
    "    \n",
    "    min_x=liste_en_decimale(pop_faible[0])\n",
    "    min_y=fitness_faible[0]\n",
    "    min=[min_x,min_y]\n",
    "    \n",
    "    max_x=liste_en_decimale(pop_forte[0])\n",
    "    max_y=fitness_forte[0]\n",
    "    max=[max_x,max_y]\n",
    "    \n",
    "    return (popu_decimale,fitnesses,moy,min,max)"
   ]
  },
  {
   "cell_type": "markdown",
   "id": "c150021b",
   "metadata": {},
   "source": [
    "<h3>Premier test du main</h3>"
   ]
  },
  {
   "cell_type": "code",
   "execution_count": 40,
   "id": "54752479",
   "metadata": {},
   "outputs": [],
   "source": [
    "(a,b,c,d,e)=main(pop_size=10, nb_parents=2,nb_generations=1, nb_survivants=20, fonction_=fonction) "
   ]
  },
  {
   "cell_type": "code",
   "execution_count": 41,
   "id": "4738b8cd",
   "metadata": {},
   "outputs": [
    {
     "data": {
      "text/plain": [
       "array([[1, 0, 0, 0, 1, 0, 0, 1],\n",
       "       [1, 0, 1, 0, 0, 0, 0, 1],\n",
       "       [0, 1, 0, 1, 1, 1, 1, 0],\n",
       "       [0, 1, 0, 1, 0, 1, 1, 0],\n",
       "       [1, 0, 1, 0, 1, 1, 0, 1],\n",
       "       [0, 1, 0, 0, 1, 1, 0, 1],\n",
       "       [0, 1, 0, 0, 0, 0, 1, 1],\n",
       "       [1, 1, 0, 0, 1, 0, 1, 1],\n",
       "       [1, 1, 0, 0, 1, 1, 0, 1],\n",
       "       [0, 0, 1, 1, 0, 0, 0, 0],\n",
       "       [1, 1, 0, 1, 0, 1, 1, 0],\n",
       "       [0, 0, 0, 1, 1, 1, 1, 1],\n",
       "       [0, 0, 0, 1, 1, 0, 1, 1],\n",
       "       [1, 1, 1, 0, 0, 1, 1, 1],\n",
       "       [1, 1, 1, 0, 1, 0, 0, 0],\n",
       "       [1, 1, 1, 1, 0, 0, 0, 0],\n",
       "       [0, 0, 0, 0, 0, 0, 0, 1]])"
      ]
     },
     "execution_count": 41,
     "metadata": {},
     "output_type": "execute_result"
    }
   ],
   "source": [
    "a #Les survivants les plus forts"
   ]
  },
  {
   "cell_type": "code",
   "execution_count": 42,
   "id": "205568c6",
   "metadata": {},
   "outputs": [
    {
     "data": {
      "text/plain": [
       "array([0.99315867, 0.9160336 , 0.9160336 , 0.87211951, 0.84695821,\n",
       "       0.81262237, 0.73484497, 0.59770746, 0.57777383, 0.55748944,\n",
       "       0.48391142, 0.37270199, 0.32653871, 0.29138975, 0.27958259,\n",
       "       0.18374952, 0.01231966])"
      ]
     },
     "execution_count": 42,
     "metadata": {},
     "output_type": "execute_result"
    }
   ],
   "source": [
    "b #Les fitness des plus forts"
   ]
  },
  {
   "cell_type": "code",
   "execution_count": 43,
   "id": "9d1e4b6d",
   "metadata": {},
   "outputs": [
    {
     "data": {
      "text/plain": [
       "array([[0, 0, 0, 0, 0, 0, 0, 1],\n",
       "       [1, 1, 1, 1, 0, 0, 0, 0],\n",
       "       [1, 1, 1, 0, 1, 0, 0, 0],\n",
       "       [1, 1, 1, 0, 0, 1, 1, 1],\n",
       "       [0, 0, 0, 1, 1, 0, 1, 1],\n",
       "       [0, 0, 0, 1, 1, 1, 1, 1],\n",
       "       [1, 1, 0, 1, 0, 1, 1, 0],\n",
       "       [0, 0, 1, 1, 0, 0, 0, 0],\n",
       "       [1, 1, 0, 0, 1, 1, 0, 1],\n",
       "       [1, 1, 0, 0, 1, 0, 1, 1],\n",
       "       [0, 1, 0, 0, 0, 0, 1, 1],\n",
       "       [0, 1, 0, 0, 1, 1, 0, 1],\n",
       "       [1, 0, 1, 0, 1, 1, 0, 1],\n",
       "       [0, 1, 0, 1, 0, 1, 1, 0],\n",
       "       [0, 1, 0, 1, 1, 1, 1, 0],\n",
       "       [1, 0, 1, 0, 0, 0, 0, 1],\n",
       "       [1, 0, 0, 0, 1, 0, 0, 1]])"
      ]
     },
     "execution_count": 43,
     "metadata": {},
     "output_type": "execute_result"
    }
   ],
   "source": [
    "c #Les survivants les plus faibles"
   ]
  },
  {
   "cell_type": "code",
   "execution_count": 44,
   "id": "bdaf65ce",
   "metadata": {},
   "outputs": [
    {
     "data": {
      "text/plain": [
       "array([0.01231966, 0.18374952, 0.27958259, 0.29138975, 0.32653871,\n",
       "       0.37270199, 0.48391142, 0.55748944, 0.57777383, 0.59770746,\n",
       "       0.73484497, 0.81262237, 0.84695821, 0.87211951, 0.9160336 ,\n",
       "       0.9160336 , 0.99315867])"
      ]
     },
     "execution_count": 44,
     "metadata": {},
     "output_type": "execute_result"
    }
   ],
   "source": [
    "d #Les fitness des plus faibles"
   ]
  },
  {
   "cell_type": "code",
   "execution_count": 45,
   "id": "cd55f647",
   "metadata": {},
   "outputs": [
    {
     "data": {
      "text/plain": [
       "array([[0, 0, 0, 0, 0, 0, 0, 1],\n",
       "       [1, 0, 1, 0, 1, 1, 0, 1],\n",
       "       [1, 1, 0, 0, 1, 0, 1, 1],\n",
       "       [1, 1, 1, 0, 1, 0, 0, 0],\n",
       "       [0, 0, 0, 1, 1, 0, 1, 1],\n",
       "       [1, 1, 1, 1, 0, 0, 0, 0],\n",
       "       [1, 1, 1, 0, 0, 1, 1, 1],\n",
       "       [0, 1, 0, 1, 1, 1, 1, 0],\n",
       "       [0, 1, 0, 0, 1, 1, 0, 1],\n",
       "       [1, 1, 0, 1, 0, 1, 1, 0],\n",
       "       [0, 1, 0, 1, 0, 1, 1, 0],\n",
       "       [0, 0, 0, 0, 0, 0, 0, 1],\n",
       "       [0, 1, 0, 0, 0, 0, 1, 1],\n",
       "       [1, 1, 0, 0, 1, 1, 0, 1],\n",
       "       [0, 0, 0, 1, 1, 1, 1, 1],\n",
       "       [0, 0, 1, 1, 0, 0, 0, 0],\n",
       "       [1, 0, 1, 0, 0, 0, 0, 1],\n",
       "       [1, 0, 0, 0, 1, 0, 0, 1],\n",
       "       [1, 1, 0, 1, 0, 1, 1, 0],\n",
       "       [0, 0, 1, 1, 0, 0, 0, 0]])"
      ]
     },
     "execution_count": 45,
     "metadata": {},
     "output_type": "execute_result"
    }
   ],
   "source": [
    "e #Toute la dernière population"
   ]
  },
  {
   "cell_type": "markdown",
   "id": "b78430f7",
   "metadata": {},
   "source": [
    "<h3>Graphiques</h3>"
   ]
  },
  {
   "cell_type": "code",
   "execution_count": 46,
   "id": "37738641",
   "metadata": {},
   "outputs": [],
   "source": [
    "import matplotlib.pyplot as plt"
   ]
  },
  {
   "cell_type": "code",
   "execution_count": 47,
   "id": "70d6288d",
   "metadata": {},
   "outputs": [
    {
     "data": {
      "image/png": "[encoded data removed]",
      "text/plain": [
       "<Figure size 1440x1080 with 4 Axes>"
      ]
     },
     "metadata": {
      "needs_background": "light"
     },
     "output_type": "display_data"
    }
   ],
   "source": [
    "plt.figure(figsize=(20,15))\n",
    "\n",
    "plt.subplot(2,2,1)\n",
    "(a,b,c,d,e)=main(pop_size=10, nb_parents=2,nb_generations=1, nb_survivants=20, fonction_=fonction) \n",
    "(popu_decimale,fitnesses,moy,min,max)=transformations_supp(a,b,c,d,e)\n",
    "plt.scatter(popu_decimale , fitnesses, label=\"La population\")\n",
    "plt.plot([0,250],[moy,moy],c=\"red\", label=\"La moyenne des fitness\")\n",
    "plt.scatter(min[0],min[1],c=\"yellow\", label=\"La min\")\n",
    "plt.scatter(max[0],max[1],c=\"orange\", label=\"Le max\")\n",
    "plt.title(\"pop_size=10, nb_generations=1 \")\n",
    "plt.legend()\n",
    "\n",
    "plt.subplot(2,2,2)\n",
    "(a,b,c,d,e)=main(pop_size=100, nb_parents=2,nb_generations=2, nb_survivants=20, fonction_=fonction) \n",
    "(popu_decimale,fitnesses,moy,min,max)=transformations_supp(a,b,c,d,e)\n",
    "plt.scatter(popu_decimale , fitnesses, label=\"La population\")\n",
    "plt.plot([0,250],[moy,moy],c=\"red\", label=\"La moyenne des fitness\")\n",
    "plt.scatter(min[0],min[1],c=\"yellow\", label=\"La min\")\n",
    "plt.scatter(max[0],max[1],c=\"orange\", label=\"Le max\")\n",
    "plt.title(\"pop_size=100, nb_generations=2 \")\n",
    "plt.legend()\n",
    "\n",
    "plt.subplot(2,2,3)\n",
    "(a,b,c,d,e)=main(pop_size=10, nb_parents=2,nb_generations=10, nb_survivants=20, fonction_=fonction) \n",
    "(popu_decimale,fitnesses,moy,min,max)=transformations_supp(a,b,c,d,e)\n",
    "plt.scatter(popu_decimale , fitnesses, label=\"La population\")\n",
    "plt.plot([0,250],[moy,moy],c=\"red\", label=\"La moyenne des fitness\")\n",
    "plt.scatter(min[0],min[1],c=\"yellow\", label=\"La min\")\n",
    "plt.scatter(max[0],max[1],c=\"orange\", label=\"Le max\")\n",
    "plt.title(\"pop_size=10, nb_generations=10 \")\n",
    "plt.legend()\n",
    "\n",
    "plt.subplot(2,2,4)\n",
    "(a,b,c,d,e)=main(pop_size=100, nb_parents=2,nb_generations=4, nb_survivants=20, fonction_=fonction) \n",
    "(popu_decimale,fitnesses,moy,min,max)=transformations_supp(a,b,c,d,e)\n",
    "plt.scatter(popu_decimale , fitnesses, label=\"La population\")\n",
    "plt.plot([0,250],[moy,moy],c=\"red\", label=\"La moyenne des fitness\")\n",
    "plt.scatter(min[0],min[1],c=\"yellow\", label=\"La min\")\n",
    "plt.scatter(max[0],max[1],c=\"orange\", label=\"Le max\")\n",
    "plt.title(\"pop_size=100, nb_generations=4 \")\n",
    "plt.legend()\n",
    "\n",
    "plt.show()"
   ]
  },
  {
   "cell_type": "markdown",
   "id": "d50d7e1e",
   "metadata": {},
   "source": [
    "<h3>Main avec graphiques internes</h3>"
   ]
  },
  {
   "cell_type": "code",
   "execution_count": 48,
   "id": "36ac22ba",
   "metadata": {},
   "outputs": [],
   "source": [
    "import time"
   ]
  },
  {
   "cell_type": "code",
   "execution_count": 49,
   "id": "00e4760f",
   "metadata": {},
   "outputs": [],
   "source": [
    "#%matplotlib"
   ]
  },
  {
   "cell_type": "code",
   "execution_count": 65,
   "id": "c1ecb498",
   "metadata": {},
   "outputs": [],
   "source": [
    "def main_(pop_size=10, nb_parents=2, nb_generations=2, nb_survivants=20, fonction_=fonction, plage_valeurs=1, binaire=True):\n",
    "    # Creation de la population\n",
    "    population_=randpop(pop_size,plage_valeurs)\n",
    "    \n",
    "    #Multiplication de la population\n",
    "    population_generee=copy(population_)\n",
    "    \n",
    "    #Creation de la figure interne\n",
    "    plt.figure(figsize=(10,7))\n",
    "    #hold(True)\n",
    "    for i in range(nb_generations): \n",
    "        #Selection\n",
    "        list_select=select(pop_size,nb_parents)\n",
    "        #Croisements\n",
    "        population_fille_=offspring(list_select, population_generee)\n",
    "        array_pop_fille_=numpy.array(population_fille_)\n",
    "        new_population_=numpy.vstack((population_generee, array_pop_fille_))\n",
    "        #Mutations\n",
    "        if(binaire):\n",
    "            population_muted_=mutation(new_population_)\n",
    "        else:\n",
    "            population_muted_=new_population_\n",
    "        #Mise à jour variables\n",
    "        population_generee=population_muted_\n",
    "        pop_size=len(population_generee)\n",
    "        \n",
    "        #Forme decimale des individus\n",
    "        if(binaire):\n",
    "            popu_decimale=[]\n",
    "            for i1 in population_generee:\n",
    "                i1=liste_en_decimale(i1)\n",
    "                popu_decimale.append(i1)\n",
    "        else:\n",
    "            pop_decimale=population_generee\n",
    "\n",
    "        #Calcul de la fitness\n",
    "        fitnesses=[]\n",
    "        for i2 in popu_decimale:\n",
    "            fitnesses.append(fonction(i2)) \n",
    "\n",
    "        fitness_array2=numpy.array(fitnesses)\n",
    "        \n",
    "        \n",
    "        #Tracé à cette itération\n",
    "    \n",
    "        plt.figure()\n",
    "        \n",
    "        plt.scatter(popu_decimale , fitness_array2, label=\"La population\")\n",
    "        plt.title(\"pop_size={}, nb_generations=\".format(pop_size)+str(i+1))\n",
    "        plt.legend()\n",
    "        #plt.draw()\n",
    "        plt.show()\n",
    "        #time.sleep(2.5)\n",
    "        plt.clf()\n",
    "        plt.close()\n",
    "    #plt.show()\n",
    "    #Les plus forts\n",
    "    \n",
    "    les_survivants=survival(population_generee,nb_survivants,fonction_,binaire)\n",
    "    \n",
    "    les_survivants_=les_survivants[0]\n",
    "    les_survivants_fitn=les_survivants[1]\n",
    "    \n",
    "    les_survivants_=numpy.array(les_survivants_)\n",
    "    les_survivants_fitn=numpy.array(les_survivants_fitn)\n",
    "    \n",
    "    pop_sansduplicata_maskbool_=eliminate_duplicates(les_survivants_)\n",
    "    \n",
    "    pop_sansduplicata_=les_survivants_[pop_sansduplicata_maskbool_]\n",
    "    \n",
    "    fitness_pop_sansduplicata_=les_survivants_fitn[pop_sansduplicata_maskbool_]\n",
    "    \n",
    "    #Les plus faibles\n",
    "    \n",
    "    les_survivants2=survival_(population_generee,nb_survivants,fonction_,binaire)\n",
    "    \n",
    "    les_survivants_2=les_survivants2[0]\n",
    "    les_survivants_fitn2=les_survivants2[1]\n",
    "    \n",
    "    les_survivants_2=numpy.array(les_survivants_2)\n",
    "    les_survivants_fitn2=numpy.array(les_survivants_fitn2)\n",
    "    \n",
    "    pop_sansduplicata_maskbool_2=eliminate_duplicates(les_survivants_2)\n",
    "    \n",
    "    pop_sansduplicata_2=les_survivants_2[pop_sansduplicata_maskbool_2]\n",
    "    \n",
    "    fitness_pop_sansduplicata_2=les_survivants_fitn2[pop_sansduplicata_maskbool_2]\n",
    "    \n",
    "    return (pop_sansduplicata_,fitness_pop_sansduplicata_,pop_sansduplicata_2,fitness_pop_sansduplicata_2,population_generee)"
   ]
  },
  {
   "cell_type": "code",
   "execution_count": 66,
   "id": "3267ed88",
   "metadata": {},
   "outputs": [
    {
     "data": {
      "text/plain": [
       "<Figure size 720x504 with 0 Axes>"
      ]
     },
     "metadata": {},
     "output_type": "display_data"
    },
    {
     "data": {
      "image/png": "[encoded data removed]",
      "text/plain": [
       "<Figure size 432x288 with 1 Axes>"
      ]
     },
     "metadata": {
      "needs_background": "light"
     },
     "output_type": "display_data"
    },
    {
     "data": {
      "image/png": "[encoded data removed]",
      "text/plain": [
       "<Figure size 432x288 with 1 Axes>"
      ]
     },
     "metadata": {
      "needs_background": "light"
     },
     "output_type": "display_data"
    },
    {
     "data": {
      "image/png": "[encoded data removed]",
      "text/plain": [
       "<Figure size 432x288 with 1 Axes>"
      ]
     },
     "metadata": {
      "needs_background": "light"
     },
     "output_type": "display_data"
    },
    {
     "data": {
      "image/png": "[encoded data removed]",
      "text/plain": [
       "<Figure size 432x288 with 1 Axes>"
      ]
     },
     "metadata": {
      "needs_background": "light"
     },
     "output_type": "display_data"
    },
    {
     "data": {
      "image/png": "[encoded data removed]",
      "text/plain": [
       "<Figure size 432x288 with 1 Axes>"
      ]
     },
     "metadata": {
      "needs_background": "light"
     },
     "output_type": "display_data"
    }
   ],
   "source": [
    "(a,b,c,d,e)=main_(pop_size=10, nb_parents=2,nb_generations=5, nb_survivants=20, fonction_=fonction) "
   ]
  },
  {
   "cell_type": "markdown",
   "id": "3921ba14",
   "metadata": {},
   "source": [
    "<h3>Main des meilleurs</h3>"
   ]
  },
  {
   "cell_type": "code",
   "execution_count": 59,
   "id": "b7947791",
   "metadata": {},
   "outputs": [],
   "source": [
    "def main__(pop_size=10, nb_parents=2, nb_generations=2, nb_survivants=20, fonction_=fonction, plage_valeurs=1, binaire=True):\n",
    "    # Creation de la population\n",
    "    population_=randpop(pop_size,plage_valeurs)\n",
    "    \n",
    "    #Multiplication de la population\n",
    "    population_generee=copy(population_)\n",
    "    \n",
    "    #Creation de la figure interne\n",
    "    plt.figure(figsize=(10,7))\n",
    "    #hold(True)\n",
    "    for i in range(nb_generations): \n",
    "        #Selection\n",
    "        list_select=select(pop_size,nb_parents)\n",
    "        #Croisements\n",
    "        population_fille_=offspring(list_select, population_generee)\n",
    "        array_pop_fille_=numpy.array(population_fille_)\n",
    "        new_population_=numpy.vstack((population_generee, array_pop_fille_))\n",
    "        #Mutations\n",
    "        if(binaire):\n",
    "            population_muted_=mutation(new_population_)\n",
    "        else:\n",
    "            population_muted_=new_population_\n",
    "            \n",
    "        #Mise à jour variables\n",
    "        les_survivants=survival(population_muted_,nb_survivants,fonction_,binaire)\n",
    "        population_generee=les_survivants[0]\n",
    "        pop_size=len(population_generee)\n",
    "        \n",
    "        #Forme decimale des individus\n",
    "        if(binaire):\n",
    "            popu_decimale=[]\n",
    "            for i1 in population_muted_:\n",
    "                i1=liste_en_decimale(i1)\n",
    "                popu_decimale.append(i1)\n",
    "        else:\n",
    "            pop_decimale=population_muted_\n",
    "\n",
    "        #Calcul de la fitness\n",
    "        fitnesses=[]\n",
    "        for i2 in popu_decimale:\n",
    "            fitnesses.append(fonction(i2)) \n",
    "\n",
    "        fitness_array2=numpy.array(fitnesses)\n",
    "        \n",
    "        \n",
    "        #Tracé à cette itération\n",
    "    \n",
    "        plt.figure()\n",
    "        \n",
    "        plt.scatter(popu_decimale , fitness_array2, label=\"La population\")\n",
    "        plt.title(\"pop_size=100, nb_generations=4 \")\n",
    "        plt.legend()\n",
    "        #plt.draw()\n",
    "        plt.show()\n",
    "        #time.sleep(2.5)\n",
    "        plt.clf()\n",
    "        plt.close()\n",
    "        #plt.show()"
   ]
  },
  {
   "cell_type": "code",
   "execution_count": 62,
   "id": "5b71af5a",
   "metadata": {},
   "outputs": [
    {
     "data": {
      "text/plain": [
       "<Figure size 720x504 with 0 Axes>"
      ]
     },
     "metadata": {},
     "output_type": "display_data"
    },
    {
     "data": {
      "image/png": "[encoded data removed]",
      "text/plain": [
       "<Figure size 432x288 with 1 Axes>"
      ]
     },
     "metadata": {
      "needs_background": "light"
     },
     "output_type": "display_data"
    },
    {
     "data": {
      "image/png": "[encoded data removed]",
      "text/plain": [
       "<Figure size 432x288 with 1 Axes>"
      ]
     },
     "metadata": {
      "needs_background": "light"
     },
     "output_type": "display_data"
    },
    {
     "data": {
      "image/png": "[encoded data removed]",
      "text/plain": [
       "<Figure size 432x288 with 1 Axes>"
      ]
     },
     "metadata": {
      "needs_background": "light"
     },
     "output_type": "display_data"
    },
    {
     "data": {
      "image/png": "[encoded data removed]",
      "text/plain": [
       "<Figure size 432x288 with 1 Axes>"
      ]
     },
     "metadata": {
      "needs_background": "light"
     },
     "output_type": "display_data"
    }
   ],
   "source": [
    "main__(pop_size=10, nb_parents=2,nb_generations=3, nb_survivants=20, fonction_=fonction) "
   ]
  }
 ],
 "metadata": {
  "kernelspec": {
   "display_name": "mainconda",
   "language": "python",
   "name": "mainconda"
  },
  "language_info": {
   "codemirror_mode": {
    "name": "ipython",
    "version": 3
   },
   "file_extension": ".py",
   "mimetype": "text/x-python",
   "name": "python",
   "nbconvert_exporter": "python",
   "pygments_lexer": "ipython3",
   "version": "3.9.7"
  },
  "varInspector": {
   "cols": {
    "lenName": 16,
    "lenType": 16,
    "lenVar": 40
   },
   "kernels_config": {
    "python": {
     "delete_cmd_postfix": "",
     "delete_cmd_prefix": "del ",
     "library": "var_list.py",
     "varRefreshCmd": "print(var_dic_list())"
    },
    "r": {
     "delete_cmd_postfix": ") ",
     "delete_cmd_prefix": "rm(",
     "library": "var_list.r",
     "varRefreshCmd": "cat(var_dic_list()) "
    }
   },
   "types_to_exclude": [
    "module",
    "function",
    "builtin_function_or_method",
    "instance",
    "_Feature"
   ],
   "window_display": false
  }
 },
 "nbformat": 4,
 "nbformat_minor": 5
}
